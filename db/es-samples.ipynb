{
 "cells": [
  {
   "metadata": {},
   "cell_type": "markdown",
   "source": [
    "## Docker 安装 ES & Kibana 8.12.2版本\n",
    "\n",
    "```\n",
    "docker network create elastic-net\n",
    "```\n",
    "\n",
    "\n",
    "\n",
    "\n",
    "\n",
    "\n"
   ],
   "id": "4307d46b341df0b0"
  },
  {
   "cell_type": "code",
   "id": "initial_id",
   "metadata": {
    "collapsed": true,
    "ExecuteTime": {
     "end_time": "2024-08-08T00:06:48.318373Z",
     "start_time": "2024-08-08T00:06:38.361303Z"
    }
   },
   "source": "!pip install elasticsearch==8.12.1",
   "outputs": [
    {
     "name": "stdout",
     "output_type": "stream",
     "text": [
      "Collecting elasticsearch==8.12.1\n",
      "  Downloading elasticsearch-8.12.1-py3-none-any.whl.metadata (5.3 kB)\n",
      "Collecting elastic-transport<9,>=8 (from elasticsearch==8.12.1)\n",
      "  Downloading elastic_transport-8.13.1-py3-none-any.whl.metadata (3.7 kB)\n",
      "Requirement already satisfied: urllib3<3,>=1.26.2 in c:\\users\\zhang\\anaconda3\\lib\\site-packages (from elastic-transport<9,>=8->elasticsearch==8.12.1) (2.0.7)\n",
      "Requirement already satisfied: certifi in c:\\users\\zhang\\anaconda3\\lib\\site-packages (from elastic-transport<9,>=8->elasticsearch==8.12.1) (2024.7.4)\n",
      "Downloading elasticsearch-8.12.1-py3-none-any.whl (432 kB)\n",
      "Downloading elastic_transport-8.13.1-py3-none-any.whl (64 kB)\n",
      "Installing collected packages: elastic-transport, elasticsearch\n",
      "Successfully installed elastic-transport-8.13.1 elasticsearch-8.12.1\n"
     ]
    }
   ],
   "execution_count": 2
  },
  {
   "metadata": {},
   "cell_type": "markdown",
   "source": "## 建立ES连接",
   "id": "beb8fd3540915e4b"
  },
  {
   "metadata": {
    "ExecuteTime": {
     "end_time": "2024-08-08T00:07:41.913281Z",
     "start_time": "2024-08-08T00:07:41.183557Z"
    }
   },
   "cell_type": "code",
   "source": [
    "# Import Elasticsearch package\n",
    "from elasticsearch import Elasticsearch\n",
    "\n",
    "# Connect to the elastic cluster\n",
    "es = Elasticsearch(\"http://localhost:9200\")\n",
    "resp = es.info()\n",
    "print(resp)"
   ],
   "id": "85a4e07ef954c372",
   "outputs": [
    {
     "name": "stdout",
     "output_type": "stream",
     "text": [
      "{'name': 'edf62d159d66', 'cluster_name': 'docker-cluster', 'cluster_uuid': 'gr-cG0S0Reuj4Hj8gI2ouA', 'version': {'number': '8.12.2', 'build_flavor': 'default', 'build_type': 'docker', 'build_hash': '48a287ab9497e852de30327444b0809e55d46466', 'build_date': '2024-02-19T10:04:32.774273190Z', 'build_snapshot': False, 'lucene_version': '9.9.2', 'minimum_wire_compatibility_version': '7.17.0', 'minimum_index_compatibility_version': '7.0.0'}, 'tagline': 'You Know, for Search'}\n"
     ]
    }
   ],
   "execution_count": 5
  },
  {
   "metadata": {},
   "cell_type": "markdown",
   "source": "## 创建索引",
   "id": "4c4815a734e2bf4c"
  },
  {
   "metadata": {
    "ExecuteTime": {
     "end_time": "2024-08-08T00:10:29.093024Z",
     "start_time": "2024-08-08T00:10:28.938266Z"
    }
   },
   "cell_type": "code",
   "source": [
    "# 索引名称\n",
    "index_name = \"my_index\"\n",
    "\n",
    "# 定义索引的映射（Mapping）\n",
    "mapping = {\n",
    "    \"mappings\": {\n",
    "        \"properties\": {\n",
    "            \"name\": {\"type\": \"text\"},\n",
    "            \"age\": {\"type\": \"integer\"},\n",
    "            \"about\": {\"type\": \"text\"},\n",
    "            \"interests\": {\"type\": \"keyword\"}\n",
    "        }\n",
    "    }\n",
    "}\n",
    "\n",
    "# 使用关键字参数创建索引\n",
    "if not es.indices.exists(index=index_name):\n",
    "    es.indices.create(index=index_name, body=mapping)\n",
    "    print(f\"索引 {index_name} 创建成功。\")\n",
    "else:\n",
    "    print(f\"索引 {index_name} 已经存在。\")"
   ],
   "id": "fd9487b3c0b8149f",
   "outputs": [
    {
     "name": "stdout",
     "output_type": "stream",
     "text": [
      "索引 my_index 创建成功。\n"
     ]
    }
   ],
   "execution_count": 7
  },
  {
   "metadata": {},
   "cell_type": "markdown",
   "source": "## 添加数据",
   "id": "97e6429e798ae001"
  },
  {
   "metadata": {
    "ExecuteTime": {
     "end_time": "2024-08-08T00:10:54.890166Z",
     "start_time": "2024-08-08T00:10:54.817629Z"
    }
   },
   "cell_type": "code",
   "source": [
    "# 索引文档（即插入数据）\n",
    "document1 = {\n",
    "    \"name\": \"John Doe\",\n",
    "    \"age\": 42,\n",
    "    \"about\": \"John Doe is a nice guy who lives in New York.\",\n",
    "    \"interests\": [\"sports\", \"music\"]\n",
    "}\n",
    "\n",
    "document2 = {\n",
    "    \"name\": \"Jane Smith\",\n",
    "    \"age\": 36,\n",
    "    \"about\": \"Jane Smith loves to go rock climbing.\",\n",
    "    \"interests\": [\"rock climbing\", \"martial arts\"]\n",
    "}\n",
    "\n",
    "# 将文档添加到索引中\n",
    "response1 = es.index(index=index_name, id=1, body=document1)\n",
    "response2 = es.index(index=index_name, id=2, body=document2)\n",
    "\n",
    "print(f\"文档1索引成功: {response1['result']}\")\n",
    "print(f\"文档2索引成功: {response2['result']}\")"
   ],
   "id": "12c50c2054e9e5e4",
   "outputs": [
    {
     "name": "stdout",
     "output_type": "stream",
     "text": [
      "文档1索引成功: created\n",
      "文档2索引成功: created\n"
     ]
    }
   ],
   "execution_count": 8
  },
  {
   "metadata": {},
   "cell_type": "markdown",
   "source": "## 检索数据",
   "id": "7d0fa77eb3706e12"
  },
  {
   "metadata": {
    "ExecuteTime": {
     "end_time": "2024-08-08T00:11:10.762780Z",
     "start_time": "2024-08-08T00:11:10.741566Z"
    }
   },
   "cell_type": "code",
   "source": [
    "# 搜索文档\n",
    "search_body = {\n",
    "    \"query\": {\n",
    "        \"match\": {\n",
    "            \"name\": \"John Doe\"\n",
    "        }\n",
    "    }\n",
    "}\n",
    "\n",
    "# 执行搜索\n",
    "search_results = es.search(index=index_name, body=search_body)\n",
    "print(\"搜索结果：\")\n",
    "for hit in search_results['hits']['hits']:\n",
    "    print(hit[\"_source\"])\n"
   ],
   "id": "25011c384d356a24",
   "outputs": [
    {
     "name": "stdout",
     "output_type": "stream",
     "text": [
      "搜索结果：\n",
      "{'name': 'John Doe', 'age': 42, 'about': 'John Doe is a nice guy who lives in New York.', 'interests': ['sports', 'music']}\n"
     ]
    }
   ],
   "execution_count": 9
  },
  {
   "metadata": {},
   "cell_type": "markdown",
   "source": "## 删除数据",
   "id": "cf0d11a51e756784"
  },
  {
   "metadata": {
    "ExecuteTime": {
     "end_time": "2024-08-08T00:11:31.861493Z",
     "start_time": "2024-08-08T00:11:31.830969Z"
    }
   },
   "cell_type": "code",
   "source": [
    "# 删除文档\n",
    "delete_response = es.delete(index=index_name, id=1)\n",
    "print(f\"文档删除: {delete_response['result']}\")"
   ],
   "id": "6f517c3600e13ceb",
   "outputs": [
    {
     "name": "stdout",
     "output_type": "stream",
     "text": [
      "文档删除: deleted\n"
     ]
    }
   ],
   "execution_count": 10
  },
  {
   "metadata": {},
   "cell_type": "markdown",
   "source": "## 删除索引",
   "id": "adf67efaae153d5e"
  },
  {
   "metadata": {
    "ExecuteTime": {
     "end_time": "2024-08-08T00:12:42.337782Z",
     "start_time": "2024-08-08T00:12:42.285621Z"
    }
   },
   "cell_type": "code",
   "source": [
    "# 使用关键字参数删除索引\n",
    "if es.indices.exists(index=index_name):\n",
    "    response = es.indices.delete(index=index_name)\n",
    "    print(f\"索引 {index_name} 删除成功。响应: {response}\")\n",
    "else:\n",
    "    print(f\"索引 {index_name} 不存在，无法删除。\")"
   ],
   "id": "9015cd74dd5dc133",
   "outputs": [
    {
     "name": "stdout",
     "output_type": "stream",
     "text": [
      "索引 my_index 删除成功。响应: {'acknowledged': True}\n"
     ]
    }
   ],
   "execution_count": 13
  }
 ],
 "metadata": {
  "kernelspec": {
   "display_name": "Python 3",
   "language": "python",
   "name": "python3"
  },
  "language_info": {
   "codemirror_mode": {
    "name": "ipython",
    "version": 2
   },
   "file_extension": ".py",
   "mimetype": "text/x-python",
   "name": "python",
   "nbconvert_exporter": "python",
   "pygments_lexer": "ipython2",
   "version": "2.7.6"
  }
 },
 "nbformat": 4,
 "nbformat_minor": 5
}
