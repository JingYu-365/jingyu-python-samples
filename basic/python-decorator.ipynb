{
 "cells": [
  {
   "metadata": {},
   "cell_type": "markdown",
   "source": "### @logger",
   "id": "63b8b81f7e5c7528"
  },
  {
   "cell_type": "code",
   "id": "initial_id",
   "metadata": {
    "collapsed": true,
    "ExecuteTime": {
     "end_time": "2024-08-07T14:19:14.853988Z",
     "start_time": "2024-08-07T14:19:14.839403Z"
    }
   },
   "source": [
    "def logger(function):\n",
    "    def wrapper(*args, **kwargs):\n",
    "        print(f\"----- {function.__name__}: start -----\")\n",
    "        output = function(*args, **kwargs)\n",
    "        print(f\"----- {function.__name__}: end -----\")\n",
    "        return output\n",
    "\n",
    "    return wrapper\n",
    "\n",
    "\n",
    "@logger\n",
    "def say_hello():\n",
    "    print(\"Hello World!\")\n",
    "\n",
    "\n",
    "say_hello()"
   ],
   "outputs": [
    {
     "name": "stdout",
     "output_type": "stream",
     "text": [
      "----- say_hello: start -----\n",
      "Hello World!\n",
      "----- say_hello: end -----\n"
     ]
    }
   ],
   "execution_count": 2
  },
  {
   "metadata": {},
   "cell_type": "markdown",
   "source": [
    "### @lru_cache\n",
    "@lru_cache是Python内置装饰器，可以通过from functools import lru_cache引入。@lru_cache的作用是缓存函数的返回值，当缓存装满时，使用least-recently-used（LRU）算法丢弃最少使用的值。\n",
    "\n",
    "@lru_cache装饰器适合用于输入输出不变且运行时间较长的任务，例如查询数据库、请求静态页面或一些繁重的处理。"
   ],
   "id": "306d476e3465f98c"
  },
  {
   "metadata": {
    "ExecuteTime": {
     "end_time": "2024-08-07T14:24:26.941003Z",
     "start_time": "2024-08-07T14:24:26.934531Z"
    }
   },
   "cell_type": "code",
   "source": [
    "from functools import lru_cache\n",
    "\n",
    "\n",
    "@lru_cache(maxsize=128, typed=True)\n",
    "def add(x, y):\n",
    "    print(f\"Calculating: {x} + {y}\")\n",
    "    return x + y\n",
    "\n",
    "\n",
    "print(add(1, 2))  # 输出：Calculating: 1 + 2 \\n 3\n",
    "print(add(1, 2))  # 输出：3\n",
    "print(add(1.0, 2.0))  # 输出：Calculating: 1.0 + 2.0 \\n 3.0\n",
    "print(add(1.0, 2.0))  # 输出：3.0\n"
   ],
   "id": "cddf96fbd16f94b3",
   "outputs": [
    {
     "name": "stdout",
     "output_type": "stream",
     "text": [
      "Calculating: 1 + 2\n",
      "3\n",
      "3\n",
      "Calculating: 1.0 + 2.0\n",
      "3.0\n",
      "3.0\n"
     ]
    }
   ],
   "execution_count": 6
  },
  {
   "metadata": {},
   "cell_type": "markdown",
   "source": [
    "### @repeat\n",
    "该装饰器的所用是多次调用被修饰函数。这对于调试、压力测试或自动化多个重复任务非常有用。"
   ],
   "id": "c67c864698bdca37"
  },
  {
   "metadata": {
    "ExecuteTime": {
     "end_time": "2024-08-07T14:26:02.181492Z",
     "start_time": "2024-08-07T14:26:02.172714Z"
    }
   },
   "cell_type": "code",
   "source": [
    "def repeat(number_of_times):\n",
    "    def decorate(func):\n",
    "        def wrapper(*args, **kwargs):\n",
    "            for _ in range(number_of_times):\n",
    "                func(*args, **kwargs)\n",
    "\n",
    "        return wrapper\n",
    "\n",
    "    return decorate\n",
    "\n",
    "\n",
    "@repeat(5)\n",
    "def hello_world():\n",
    "    print(\"hello world\")\n",
    "\n",
    "\n",
    "hello_world()"
   ],
   "id": "cca4bb5095f1acd7",
   "outputs": [
    {
     "name": "stdout",
     "output_type": "stream",
     "text": [
      "hello world\n",
      "hello world\n",
      "hello world\n",
      "hello world\n",
      "hello world\n"
     ]
    }
   ],
   "execution_count": 10
  },
  {
   "metadata": {},
   "cell_type": "markdown",
   "source": [
    "### @timeit\n",
    "该装饰器用来测量函数的执行时间并打印出来。这对调试和监控非常有用。"
   ],
   "id": "e76dc486770b71"
  },
  {
   "metadata": {
    "ExecuteTime": {
     "end_time": "2024-08-07T14:26:36.455838Z",
     "start_time": "2024-08-07T14:26:35.447558Z"
    }
   },
   "cell_type": "code",
   "source": [
    "import time\n",
    "from functools import wraps\n",
    "\n",
    "\n",
    "def timeit(func):\n",
    "    @wraps(func)\n",
    "    def wrapper(*args, **kwargs):\n",
    "        start = time.perf_counter()\n",
    "        result = func(*args, **kwargs)\n",
    "        end = time.perf_counter()\n",
    "        print(f'{func.__name__} took {end - start:.6f} seconds to complete')\n",
    "        return result\n",
    "\n",
    "    return wrapper\n",
    "\n",
    "\n",
    "@timeit\n",
    "def process_data():\n",
    "    time.sleep(1)\n",
    "\n",
    "\n",
    "process_data()\n",
    "# process_data took 1.000012 seconds to complete\n"
   ],
   "id": "23f0f8a7cd3daaae",
   "outputs": [
    {
     "name": "stdout",
     "output_type": "stream",
     "text": [
      "process_data took 1.000658 seconds to complete\n"
     ]
    }
   ],
   "execution_count": 11
  },
  {
   "metadata": {},
   "cell_type": "markdown",
   "source": [
    "### @retry\n",
    "当函数遇到异常时，该装饰器会强制函数重试多次。它接受三个参数：重试次数、捕获的异常以及重试之间的间隔时间。\n",
    "\n",
    "其工作原理如下：\n",
    "- wrapper函数启动num_retrys次迭代的for循环。\n",
    "- 将被修饰函数放到try/except块中。每次迭代如果调用成功，则中断循环并返回结果。否则，休眠sleep_time秒后继续下一次迭代。\n",
    "- 当for循环结束后函数调用依然不成功，则抛出异常。"
   ],
   "id": "42c97a1e28fa84ae"
  },
  {
   "metadata": {
    "ExecuteTime": {
     "end_time": "2024-08-07T14:28:22.127873Z",
     "start_time": "2024-08-07T14:28:22.119864Z"
    }
   },
   "cell_type": "code",
   "source": [
    "import random\n",
    "import time\n",
    "from functools import wraps\n",
    "\n",
    "\n",
    "def retry(num_retries, exception_to_check, sleep_time=0):\n",
    "    \"\"\"\n",
    "    遇到异常尝试重新执行装饰器\n",
    "    \"\"\"\n",
    "\n",
    "    def decorate(func):\n",
    "        @wraps(func)\n",
    "        def wrapper(*args, **kwargs):\n",
    "            for i in range(1, num_retries + 1):\n",
    "                try:\n",
    "                    return func(*args, **kwargs)\n",
    "                except exception_to_check as e:\n",
    "                    print(f\"{func.__name__} raised {e.__class__.__name__}. Retrying...\")\n",
    "                    if i < num_retries:\n",
    "                        time.sleep(sleep_time)\n",
    "            # 尝试多次后仍不成功则抛出异常\n",
    "            raise e\n",
    "\n",
    "        return wrapper\n",
    "\n",
    "    return decorate\n",
    "\n",
    "\n",
    "@retry(num_retries=3, exception_to_check=ValueError, sleep_time=1)\n",
    "def random_value():\n",
    "    value = random.randint(1, 5)\n",
    "    if value == 3:\n",
    "        raise ValueError(\"Value cannot be 3\")\n",
    "    return value\n",
    "\n",
    "\n",
    "random_value()\n",
    "# random_value raised ValueError. Retrying...\n",
    "# 1\n",
    "\n",
    "random_value()\n",
    "# 5\n"
   ],
   "id": "111c789f8fa35176",
   "outputs": [
    {
     "data": {
      "text/plain": [
       "5"
      ]
     },
     "execution_count": 13,
     "metadata": {},
     "output_type": "execute_result"
    }
   ],
   "execution_count": 13
  },
  {
   "metadata": {},
   "cell_type": "markdown",
   "source": [
    "### @count_call\n",
    "@count_call 用于统计被修饰函数的调用次数。这里的调用次数会缓存在wraps的count属性中。"
   ],
   "id": "5f9360ad5a7a3de9"
  },
  {
   "metadata": {
    "ExecuteTime": {
     "end_time": "2024-08-07T14:29:44.717878Z",
     "start_time": "2024-08-07T14:29:44.706660Z"
    }
   },
   "cell_type": "code",
   "source": [
    "from functools import wraps\n",
    "\n",
    "\n",
    "def count_call(func):\n",
    "    @wraps(func)\n",
    "    def wrapper(*args, **kwargs):\n",
    "        wrapper.count += 1\n",
    "        result = func(*args, **kwargs)\n",
    "        print(f'{func.__name__} has been called {wrapper.count} times')\n",
    "        return result\n",
    "\n",
    "    wrapper.count = 0\n",
    "    return wrapper\n",
    "\n",
    "\n",
    "@count_call\n",
    "def process_data():\n",
    "    pass\n",
    "\n",
    "\n",
    "process_data()\n",
    "process_data()"
   ],
   "id": "d8a55403a3ee56d6",
   "outputs": [
    {
     "name": "stdout",
     "output_type": "stream",
     "text": [
      "process_data has been called 1 times\n",
      "process_data has been called 2 times\n"
     ]
    }
   ],
   "execution_count": 16
  },
  {
   "metadata": {},
   "cell_type": "markdown",
   "source": [
    "### @rate_limited\n",
    "@rate_limited装饰器会在被修饰函数调用太频繁时，休眠一段时间，从而限制函数的调用速度。\n",
    "\n",
    "这在模拟、爬虫、接口调用防过载等场景下非常有用。"
   ],
   "id": "8137d227346f85bf"
  },
  {
   "metadata": {},
   "cell_type": "code",
   "outputs": [],
   "execution_count": null,
   "source": [
    "import time\n",
    "from functools import wraps\n",
    "\n",
    "\n",
    "def rate_limited(max_per_second):\n",
    "    min_interval = 1.0 / float(max_per_second)\n",
    "\n",
    "    def decorate(func):\n",
    "        last_time_called = [0.0]\n",
    "\n",
    "        @wraps(func)\n",
    "        def rate_limited_function(*args, **kargs):\n",
    "            elapsed = time.perf_counter() - last_time_called[0]\n",
    "            left_to_wait = min_interval - elapsed\n",
    "            if left_to_wait > 0:\n",
    "                time.sleep(left_to_wait)\n",
    "            ret = func(*args, **kargs)\n",
    "            last_time_called[0] = time.perf_counter()\n",
    "            return ret\n",
    "\n",
    "        return rate_limited_function\n",
    "\n",
    "    return decorate\n",
    "\n"
   ],
   "id": "ef189e98f531b674"
  },
  {
   "metadata": {},
   "cell_type": "markdown",
   "source": [
    "### @dataclass\n",
    "Python 3.7 引入了@dataclass装饰器，将其加入到标准库，用于装饰类。它主要用于存储数据的类自动生成诸如`__init__`， `__repr__`， `__eq__`， `__lt__`，`__str__` 等特殊函数。这样可以减少模板代码，并使类更加可读和可维护。"
   ],
   "id": "a33c3766b9dc57f1"
  },
  {
   "metadata": {
    "ExecuteTime": {
     "end_time": "2024-08-07T14:32:36.100934Z",
     "start_time": "2024-08-07T14:32:36.093080Z"
    }
   },
   "cell_type": "code",
   "source": [
    "from dataclasses import dataclass, asdict\n",
    "\n",
    "\n",
    "@dataclass\n",
    "class Person:\n",
    "    first_name: str\n",
    "    last_name: str\n",
    "    age: int\n",
    "    job: str\n",
    "\n",
    "    def __eq__(self, other):\n",
    "        if isinstance(other, Person):\n",
    "            return self.age == other.age\n",
    "        return NotImplemented\n",
    "\n",
    "    def __lt__(self, other):\n",
    "        if isinstance(other, Person):\n",
    "            return self.age < other.age\n",
    "        return NotImplemented\n",
    "\n",
    "\n",
    "john = Person(first_name=\"John\",\n",
    "              last_name=\"Doe\",\n",
    "              age=30,\n",
    "              job=\"doctor\", )\n",
    "\n",
    "anne = Person(first_name=\"Anne\",\n",
    "              last_name=\"Smith\",\n",
    "              age=40,\n",
    "              job=\"software engineer\", )\n",
    "\n",
    "print(john == anne)\n",
    "# False\n",
    "\n",
    "print(anne > john)\n",
    "# True\n",
    "\n",
    "asdict(anne)\n",
    "#{'first_name': 'Anne',\n",
    "# 'last_name': 'Smith',\n",
    "# 'age': 40,\n",
    "# 'job': 'software engineer'}\n"
   ],
   "id": "f76611aefd4849df",
   "outputs": [
    {
     "name": "stdout",
     "output_type": "stream",
     "text": [
      "False\n",
      "True\n"
     ]
    },
    {
     "data": {
      "text/plain": [
       "{'first_name': 'Anne',\n",
       " 'last_name': 'Smith',\n",
       " 'age': 40,\n",
       " 'job': 'software engineer'}"
      ]
     },
     "execution_count": 17,
     "metadata": {},
     "output_type": "execute_result"
    }
   ],
   "execution_count": 17
  },
  {
   "metadata": {},
   "cell_type": "markdown",
   "source": [
    "### @property\n",
    "@property装饰器用于定义类属性，这些属性本质上是类实例属性的getter、setter和deleter方法。\n",
    "\n",
    "通过使用@property装饰器，可以将方法定义为类属性，并将其作为类属性进行访问，而无需显式调用该方法。\n",
    "\n",
    "如果您想在获取或设置值时添加一些约束和验证逻辑，使用@property装饰器会非常方便。"
   ],
   "id": "83d71d94a1b413ec"
  },
  {
   "metadata": {
    "ExecuteTime": {
     "end_time": "2024-08-07T14:38:02.972912Z",
     "start_time": "2024-08-07T14:38:02.948907Z"
    }
   },
   "cell_type": "code",
   "source": [
    "class Movie:\n",
    "    def __init__(self, r):\n",
    "        self._rating = r\n",
    "\n",
    "    @property\n",
    "    def rating(self):\n",
    "        return self._rating\n",
    "\n",
    "    @rating.setter\n",
    "    def rating(self, r):\n",
    "        if 0 <= r <= 5:\n",
    "            self._rating = r\n",
    "        else:\n",
    "            raise ValueError(\"The movie rating must be between 0 and 5!\")\n",
    "\n",
    "\n",
    "batman = Movie(2.5)\n",
    "print(batman.rating)\n",
    "# 2.5\n",
    "\n",
    "batman.rating = 4\n",
    "print(batman.rating)\n",
    "# 4\n",
    "\n",
    "batman.rating = 10\n",
    "\n",
    "# ---------------------------------------------------------------------------\n",
    "# ValueError                                Traceback (most recent call last)\n",
    "# Input In [16], in <cell line: 1>()\n",
    "# ----> 1 batman.rating = 10\n",
    "# Input In [11], in Movie.rating(self, r)\n",
    "#      12     self._rating = r\n",
    "#      13 else:\n",
    "# ---> 14     raise ValueError(\"The movie rating must be between 0 and 5!\")\n",
    "#\n",
    "# ValueError: The movie rating must be between 0 and 5!\n"
   ],
   "id": "f318222f5ca6d7c2",
   "outputs": [
    {
     "name": "stdout",
     "output_type": "stream",
     "text": [
      "2.5\n",
      "4\n"
     ]
    },
    {
     "ename": "ValueError",
     "evalue": "The movie rating must be between 0 and 5!",
     "output_type": "error",
     "traceback": [
      "\u001B[1;31m---------------------------------------------------------------------------\u001B[0m",
      "\u001B[1;31mValueError\u001B[0m                                Traceback (most recent call last)",
      "Cell \u001B[1;32mIn[25], line 25\u001B[0m\n\u001B[0;32m     22\u001B[0m \u001B[38;5;28mprint\u001B[39m(batman\u001B[38;5;241m.\u001B[39mrating)\n\u001B[0;32m     23\u001B[0m \u001B[38;5;66;03m# 4\u001B[39;00m\n\u001B[1;32m---> 25\u001B[0m batman\u001B[38;5;241m.\u001B[39mrating \u001B[38;5;241m=\u001B[39m \u001B[38;5;241m10\u001B[39m\n",
      "Cell \u001B[1;32mIn[25], line 14\u001B[0m, in \u001B[0;36mMovie.rating\u001B[1;34m(self, r)\u001B[0m\n\u001B[0;32m     12\u001B[0m     \u001B[38;5;28mself\u001B[39m\u001B[38;5;241m.\u001B[39m_rating \u001B[38;5;241m=\u001B[39m r\n\u001B[0;32m     13\u001B[0m \u001B[38;5;28;01melse\u001B[39;00m:\n\u001B[1;32m---> 14\u001B[0m     \u001B[38;5;28;01mraise\u001B[39;00m \u001B[38;5;167;01mValueError\u001B[39;00m(\u001B[38;5;124m\"\u001B[39m\u001B[38;5;124mThe movie rating must be between 0 and 5!\u001B[39m\u001B[38;5;124m\"\u001B[39m)\n",
      "\u001B[1;31mValueError\u001B[0m: The movie rating must be between 0 and 5!"
     ]
    }
   ],
   "execution_count": 25
  }
 ],
 "metadata": {
  "kernelspec": {
   "display_name": "Python 3",
   "language": "python",
   "name": "python3"
  },
  "language_info": {
   "codemirror_mode": {
    "name": "ipython",
    "version": 2
   },
   "file_extension": ".py",
   "mimetype": "text/x-python",
   "name": "python",
   "nbconvert_exporter": "python",
   "pygments_lexer": "ipython2",
   "version": "2.7.6"
  }
 },
 "nbformat": 4,
 "nbformat_minor": 5
}
